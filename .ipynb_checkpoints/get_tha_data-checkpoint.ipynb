{
 "cells": [
  {
   "cell_type": "code",
   "execution_count": 6,
   "metadata": {},
   "outputs": [],
   "source": [
    "import psycopg2"
   ]
  },
  {
   "cell_type": "code",
   "execution_count": 7,
   "metadata": {},
   "outputs": [],
   "source": [
    "conn = psycopg2.connect(host=\"localhost\", port = 5432, database=\"Eric_Health\", user=\"postgres\", password=\"Keaton0506!!\")"
   ]
  },
  {
   "cell_type": "code",
   "execution_count": 8,
   "metadata": {},
   "outputs": [
    {
     "name": "stdout",
     "output_type": "stream",
     "text": [
      "(datetime.date(2020, 3, 23), 'walk', 188, 1.97, 2202.0)\n",
      "(datetime.date(2020, 3, 22), 'bike (road)', 1686, 26.92, 6448.0)\n",
      "(datetime.date(2020, 3, 23), 'run', 383, 3.06, 1744.0)\n",
      "(datetime.date(2020, 3, 24), 'walk', 188, 1.96, 2268.0)\n",
      "(datetime.date(2020, 3, 25), 'walk', 180, 1.95, 1930.0)\n",
      "(datetime.date(2020, 3, 25), 'run', 374, 3.08, 1749.0)\n",
      "(datetime.date(2020, 3, 26), 'walk', 188, 2.02, 2226.0)\n",
      "(datetime.date(2020, 3, 27), 'bike', 1376, 22.16, 5567.0)\n",
      "(datetime.date(2020, 3, 28), 'walk', 189, 1.96, 2289.0)\n",
      "(datetime.date(2020, 3, 29), 'walk', 274, 2.8, 3539.0)\n",
      "(datetime.date(2020, 3, 29), 'bike', 1703, 27.01, 6674.0)\n",
      "(datetime.date(2020, 3, 30), 'walk', 191, 1.99, 2312.0)\n",
      "(datetime.date(2020, 3, 31), 'walk', 189, 1.98, 2215.0)\n",
      "(datetime.date(2020, 3, 31), 'run', 369, 3.11, 1712.0)\n",
      "(datetime.date(2020, 4, 3), 'walk', 203, 2.22, 2113.0)\n",
      "(datetime.date(2020, 4, 4), 'walk', 293, 2.98, 3871.0)\n",
      "(datetime.date(2020, 4, 4), 'run', 422, 3.43, 1998.0)\n",
      "(datetime.date(2020, 4, 5), 'bike', 2135, 33.73, 8180.0)\n",
      "(datetime.date(2020, 4, 6), 'walk', 189, 1.96, 2495.0)\n",
      "(datetime.date(2020, 4, 7), 'walk', 187, 1.95, 2237.0)\n",
      "(datetime.date(2020, 4, 7), 'run', 364, 3.02, 1682.0)\n",
      "(datetime.date(2020, 4, 8), 'walk', 186, 1.95, 2204.0)\n",
      "(datetime.date(2020, 4, 9), 'walk', 187, 1.97, 2297.0)\n",
      "(datetime.date(2020, 4, 9), 'walk', 122, 1.24, 1787.0)\n",
      "(datetime.date(2020, 4, 9), 'run', 347, 3.11, 1633.0)\n",
      "(datetime.date(2020, 4, 10), 'bike', 1628, 25.91, 6673.0)\n",
      "(datetime.date(2020, 4, 11), 'bike (mountain)', 182, 2.96, 1318.0)\n",
      "(datetime.date(2020, 4, 11), 'walk', 287, 2.75, 3787.0)\n",
      "(datetime.date(2020, 4, 12), 'walk', 180, 1.96, 1933.0)\n"
     ]
    }
   ],
   "source": [
    "cur = conn.cursor()\n",
    "cur.execute(\"SELECT * FROM exercise_distance\")\n",
    "res = cur.fetchall()\n",
    "for r in res:\n",
    "    print(r)\n"
   ]
  },
  {
   "cell_type": "code",
   "execution_count": null,
   "metadata": {},
   "outputs": [],
   "source": [
    "cur.close()\n",
    "conn.close()"
   ]
  }
 ],
 "metadata": {
  "kernelspec": {
   "display_name": "Python 3",
   "language": "python",
   "name": "python3"
  },
  "language_info": {
   "codemirror_mode": {
    "name": "ipython",
    "version": 3
   },
   "file_extension": ".py",
   "mimetype": "text/x-python",
   "name": "python",
   "nbconvert_exporter": "python",
   "pygments_lexer": "ipython3",
   "version": "3.8.0"
  }
 },
 "nbformat": 4,
 "nbformat_minor": 4
}
