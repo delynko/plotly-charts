{
 "cells": [
  {
   "cell_type": "code",
   "execution_count": 10,
   "metadata": {},
   "outputs": [],
   "source": [
    "import psycopg2\n",
    "import csv\n",
    "import os\n",
    "\n",
    "data_path = r\"Z:\\Dev\\plotly-charts\\health_data\"\n",
    "conn = psycopg2.connect(host=\"localhost\", port = 5432, database=\"Eric_Health\", user=\"postgres\", password=\"Keaton0506!!\")"
   ]
  },
  {
   "cell_type": "code",
   "execution_count": 11,
   "metadata": {},
   "outputs": [],
   "source": [
    "def getDays():\n",
    "    conn = psycopg2.connect(host=\"localhost\", port = 5432, database=\"Eric_Health\", user=\"postgres\", password=\"Keaton0506!!\")\n",
    "    cur = conn.cursor()\n",
    "    cur.execute(\"SELECT * FROM days ORDER BY date\")\n",
    "    res = cur.fetchall()\n",
    "    with open(os.path.join(data_path, \"days_data.csv\"), \"w\", newline='') as csvFile:\n",
    "        rowWriter = csv.writer(csvFile)\n",
    "        rowWriter.writerow(['Date', 'Day Type', 'Calories In', 'Exercise Calories', 'Steps', 'Sleep Hours', 'Notes', 'Weight', 'Beers', 'Whiskies'])\n",
    "        for r in res:\n",
    "            rowWriter.writerow([str(r[0]), r[1], r[2], r[3], r[4], r[5], r[6], r[7], r[8], r[9]])\n",
    "    csvFile.close()\n",
    "    cur.close()\n",
    "    conn.close()"
   ]
  },
  {
   "cell_type": "code",
   "execution_count": 12,
   "metadata": {},
   "outputs": [],
   "source": [
    "def getEvents():\n",
    "    conn = psycopg2.connect(host=\"localhost\", port = 5432, database=\"Eric_Health\", user=\"postgres\", password=\"Keaton0506!!\")\n",
    "    cur = conn.cursor()\n",
    "    cur.execute(\"SELECT * FROM events ORDER BY date\")\n",
    "    res = cur.fetchall()\n",
    "    with open(os.path.join(data_path, \"events_data.csv\"), \"w\", newline='') as csvFile:\n",
    "        rowWriter = csv.writer(csvFile)\n",
    "        rowWriter.writerow(['Date', 'Event Type'])\n",
    "        for r in res:\n",
    "            rowWriter.writerow([str(r[0]), r[1]])\n",
    "    csvFile.close()\n",
    "    cur.close()\n",
    "    conn.close()"
   ]
  },
  {
   "cell_type": "code",
   "execution_count": 13,
   "metadata": {},
   "outputs": [],
   "source": [
    "def getWeather():\n",
    "    conn = psycopg2.connect(host=\"localhost\", port = 5432, database=\"Eric_Health\", user=\"postgres\", password=\"Keaton0506!!\")\n",
    "    cur = conn.cursor()\n",
    "    cur.execute(\"SELECT * FROM weather ORDER BY date\")\n",
    "    res = cur.fetchall()\n",
    "    with open(os.path.join(data_path, \"weather_data.csv\"), \"w\", newline='') as csvFile:\n",
    "        rowWriter = csv.writer(csvFile)\n",
    "        rowWriter.writerow(['Date', 'High', 'Low', 'Conditions', \"Favorable\"])\n",
    "        for r in res:\n",
    "            rowWriter.writerow([str(r[0]), r[1], r[2], r[3], r[4]])\n",
    "    csvFile.close()\n",
    "    cur.close()\n",
    "    conn.close()"
   ]
  },
  {
   "cell_type": "code",
   "execution_count": 14,
   "metadata": {},
   "outputs": [],
   "source": [
    "getDays()\n",
    "getEvents()\n",
    "getWeather()"
   ]
  },
  {
   "cell_type": "code",
   "execution_count": null,
   "metadata": {},
   "outputs": [],
   "source": []
  }
 ],
 "metadata": {
  "kernelspec": {
   "display_name": "Python 3",
   "language": "python",
   "name": "python3"
  },
  "language_info": {
   "codemirror_mode": {
    "name": "ipython",
    "version": 3
   },
   "file_extension": ".py",
   "mimetype": "text/x-python",
   "name": "python",
   "nbconvert_exporter": "python",
   "pygments_lexer": "ipython3",
   "version": "3.8.0"
  }
 },
 "nbformat": 4,
 "nbformat_minor": 4
}
