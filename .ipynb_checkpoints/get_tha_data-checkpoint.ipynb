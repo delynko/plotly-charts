{
 "cells": [
  {
   "cell_type": "code",
   "execution_count": 5,
   "metadata": {},
   "outputs": [],
   "source": [
    "import psycopg2\n",
    "import csv\n",
    "import os\n",
    "\n",
    "data_path = r\"Z:\\Dev\\plotly-charts\\health_data\"\n",
    "conn = psycopg2.connect(host=\"localhost\", port = 5432, database=\"Eric_Health\", user=\"postgres\", password=\"Keaton0506!!\")"
   ]
  },
  {
   "cell_type": "code",
   "execution_count": 6,
   "metadata": {},
   "outputs": [],
   "source": [
    "def getDays():\n",
    "    conn = psycopg2.connect(host=\"localhost\", port = 5432, database=\"Eric_Health\", user=\"postgres\", password=\"Keaton0506!!\")\n",
    "    cur = conn.cursor()\n",
    "    cur.execute(\"SELECT * FROM days ORDER BY date\")\n",
    "    res = cur.fetchall()\n",
    "    with open(os.path.join(data_path, \"days_data.csv\"), \"w\", newline='') as csvFile:\n",
    "        rowWriter = csv.writer(csvFile)\n",
    "        rowWriter.writerow(['Date', 'Day Type', 'Calories In', 'Exercise Calories', 'Steps', 'Sleep Hours', 'Events', 'Weight', 'Beers', 'Whiskies', 'Mood', 'Exercise Duration'])\n",
    "        for r in res:\n",
    "            rowWriter.writerow([str(r[0]), r[1], r[2], r[3], r[4], r[5], r[6], r[7], r[8], r[9], r[11], r[12]])\n",
    "    csvFile.close()\n",
    "    cur.close()\n",
    "    conn.close()\n",
    "\n",
    "def getWeather():\n",
    "    conn = psycopg2.connect(host=\"localhost\", port = 5432, database=\"Eric_Health\", user=\"postgres\", password=\"Keaton0506!!\")\n",
    "    cur = conn.cursor()\n",
    "    cur.execute(\"SELECT * FROM weather ORDER BY date\")\n",
    "    res = cur.fetchall()\n",
    "    with open(os.path.join(data_path, \"weather_data.csv\"), \"w\", newline='') as csvFile:\n",
    "        rowWriter = csv.writer(csvFile)\n",
    "        rowWriter.writerow(['Date', 'High', 'Low', 'Conditions', \"Favorable\"])\n",
    "        for r in res:\n",
    "            rowWriter.writerow([str(r[0]), r[1], r[2], r[3], r[4]])\n",
    "    csvFile.close()\n",
    "    cur.close()\n",
    "    conn.close()\n",
    "    \n",
    "def getWeekends():\n",
    "    conn = psycopg2.connect(host=\"localhost\", port = 5432, database=\"Eric_Health\", user=\"postgres\", password=\"Keaton0506!!\")\n",
    "    cur = conn.cursor()\n",
    "    cur.execute(\"SELECT date FROM days WHERE day_type = 'weekend' ORDER BY date\")\n",
    "    res = cur.fetchall()\n",
    "    for r in res:\n",
    "        print(r)\n",
    "    cur.close()\n",
    "    conn.close()"
   ]
  },
  {
   "cell_type": "code",
   "execution_count": 7,
   "metadata": {},
   "outputs": [],
   "source": [
    "getDays()\n",
    "getWeather()"
   ]
  },
  {
   "cell_type": "code",
   "execution_count": 4,
   "metadata": {},
   "outputs": [
    {
     "name": "stdout",
     "output_type": "stream",
     "text": [
      "(datetime.date(2020, 3, 27),)\n",
      "(datetime.date(2020, 3, 28),)\n",
      "(datetime.date(2020, 3, 29),)\n",
      "(datetime.date(2020, 4, 4),)\n",
      "(datetime.date(2020, 4, 5),)\n",
      "(datetime.date(2020, 4, 10),)\n",
      "(datetime.date(2020, 4, 11),)\n",
      "(datetime.date(2020, 4, 12),)\n",
      "(datetime.date(2020, 4, 18),)\n",
      "(datetime.date(2020, 4, 19),)\n"
     ]
    }
   ],
   "source": [
    "getWeekends()"
   ]
  },
  {
   "cell_type": "code",
   "execution_count": null,
   "metadata": {},
   "outputs": [],
   "source": []
  }
 ],
 "metadata": {
  "kernelspec": {
   "display_name": "Python 3",
   "language": "python",
   "name": "python3"
  },
  "language_info": {
   "codemirror_mode": {
    "name": "ipython",
    "version": 3
   },
   "file_extension": ".py",
   "mimetype": "text/x-python",
   "name": "python",
   "nbconvert_exporter": "python",
   "pygments_lexer": "ipython3",
   "version": "3.8.0"
  }
 },
 "nbformat": 4,
 "nbformat_minor": 4
}
